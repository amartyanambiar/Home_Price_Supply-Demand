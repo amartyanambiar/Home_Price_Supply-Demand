{
 "cells": [
  {
   "cell_type": "markdown",
   "metadata": {},
   "source": [
    "Import Libraries"
   ]
  },
  {
   "cell_type": "code",
   "execution_count": 19,
   "metadata": {},
   "outputs": [],
   "source": [
    "import pandas as pd\n",
    "import numpy as np"
   ]
  },
  {
   "cell_type": "markdown",
   "metadata": {},
   "source": [
    "Reading our Datasets"
   ]
  },
  {
   "cell_type": "code",
   "execution_count": 20,
   "metadata": {},
   "outputs": [],
   "source": [
    "home_price = pd.read_csv(\"data/S&P_home_price.csv\",index_col=False)\n",
    "new_construction = pd.read_csv(\"data/new_construction.csv\",index_col=False)\n",
    "usa_gdp = pd.read_csv(\"data/us_GDP.csv\",index_col=False)\n",
    "fed_rates = pd.read_csv(\"data/Fed_rates.csv\",index_col=False)\n",
    "permits = pd.read_csv(\"data/permits.csv\",index_col=False)\n",
    "mortgage_rates = pd.read_csv(\"data/mortgage.csv\",index_col=False)\n",
    "personal_income = pd.read_csv(\"data/personal_income.csv\",index_col=False)"
   ]
  },
  {
   "cell_type": "markdown",
   "metadata": {},
   "source": [
    "Home Prices Over Time"
   ]
  },
  {
   "cell_type": "code",
   "execution_count": 21,
   "metadata": {},
   "outputs": [],
   "source": [
    "start_date = '01-01-2000' \n",
    "end_date = '01-01-2020'\n",
    "home_price.columns = [\"date\",\"price\"]\n",
    "home_price[\"date\"] = pd.to_datetime(home_price[\"date\"])\n",
    "home_price = home_price[(home_price[\"date\"] >= start_date) & (home_price[\"date\"] <= end_date)]\n",
    "home_price = home_price.reset_index(drop=True)"
   ]
  },
  {
   "cell_type": "markdown",
   "metadata": {},
   "source": [
    "New Constructions Over Time"
   ]
  },
  {
   "cell_type": "code",
   "execution_count": 22,
   "metadata": {},
   "outputs": [],
   "source": [
    "new_construction.columns = [\"new_construction\"]\n",
    "final_df = home_price.join(new_construction)"
   ]
  },
  {
   "cell_type": "markdown",
   "metadata": {},
   "source": [
    "GDP of USA"
   ]
  },
  {
   "cell_type": "code",
   "execution_count": 23,
   "metadata": {},
   "outputs": [],
   "source": [
    "usa_gdp.columns = [\"date\",\"gdp\"]\n",
    "usa_gdp[\"date\"] = pd.to_datetime(usa_gdp[\"date\"])\n",
    "usa_gdp = usa_gdp[(usa_gdp[\"date\"] >= start_date) & (usa_gdp[\"date\"] <= end_date)]\n",
    "usa_gdp = usa_gdp.reset_index(drop=True)\n",
    "final_df = final_df.join(usa_gdp[\"gdp\"])"
   ]
  },
  {
   "cell_type": "markdown",
   "metadata": {},
   "source": [
    "Federal Rates Over 20 Years"
   ]
  },
  {
   "cell_type": "code",
   "execution_count": 24,
   "metadata": {},
   "outputs": [],
   "source": [
    "fed_rates.columns = [\"date\",\"fed_rate\"]\n",
    "fed_rates[\"date\"] = pd.to_datetime(fed_rates[\"date\"])\n",
    "fed_rates = fed_rates[(fed_rates[\"date\"] >= start_date) & (fed_rates[\"date\"] <= end_date)]\n",
    "fed_rates = fed_rates.reset_index(drop=True)\n",
    "fed_rates[\"date\"] = pd.to_datetime(fed_rates[\"date\"])\n",
    "fed_rates = fed_rates.resample('MS', on='date')['fed_rate'].agg('mean')\n",
    "fed_rates = pd.DataFrame(fed_rates, columns=[\"fed_rate\"])\n",
    "fed_rates.reset_index(inplace=True)\n",
    "final_df = final_df.join(fed_rates[\"fed_rate\"])"
   ]
  },
  {
   "cell_type": "markdown",
   "metadata": {},
   "source": [
    "Permits Granted "
   ]
  },
  {
   "cell_type": "code",
   "execution_count": 25,
   "metadata": {},
   "outputs": [],
   "source": [
    "permits.columns = [\"permit\"]\n",
    "final_df = final_df.join(permits)"
   ]
  },
  {
   "cell_type": "markdown",
   "metadata": {},
   "source": [
    "Mortgage Rates"
   ]
  },
  {
   "cell_type": "code",
   "execution_count": 26,
   "metadata": {},
   "outputs": [],
   "source": [
    "mortgage_rates.columns = [\"date\",\"mortgage_rate\"]\n",
    "mortgage_rates[\"date\"] = pd.to_datetime(mortgage_rates[\"date\"])\n",
    "mortgage_rates = mortgage_rates[(mortgage_rates[\"date\"] >= start_date) & (mortgage_rates[\"date\"] <= end_date)]\n",
    "mortgage_rates = mortgage_rates.reset_index(drop=True)\n",
    "final_df = final_df.join(mortgage_rates[\"mortgage_rate\"])"
   ]
  },
  {
   "cell_type": "markdown",
   "metadata": {},
   "source": [
    "Personal Income"
   ]
  },
  {
   "cell_type": "code",
   "execution_count": 27,
   "metadata": {},
   "outputs": [],
   "source": [
    "personal_income.columns = [\"date\",\"personal_income\"]\n",
    "personal_income[\"date\"] = pd.to_datetime(personal_income[\"date\"])\n",
    "personal_income = personal_income[(personal_income[\"date\"] >= start_date) & (personal_income[\"date\"] <= end_date)]\n",
    "personal_income = personal_income.reset_index(drop=True)\n",
    "final_df = final_df.join(personal_income[\"personal_income\"])"
   ]
  },
  {
   "cell_type": "markdown",
   "metadata": {},
   "source": [
    "The Final Dataset"
   ]
  },
  {
   "cell_type": "code",
   "execution_count": 28,
   "metadata": {},
   "outputs": [],
   "source": [
    "price = final_df.pop(\"price\")\n",
    "final_df.insert(7, \"price\", price)\n"
   ]
  },
  {
   "cell_type": "code",
   "execution_count": 29,
   "metadata": {},
   "outputs": [
    {
     "data": {
      "text/html": [
       "<div>\n",
       "<style scoped>\n",
       "    .dataframe tbody tr th:only-of-type {\n",
       "        vertical-align: middle;\n",
       "    }\n",
       "\n",
       "    .dataframe tbody tr th {\n",
       "        vertical-align: top;\n",
       "    }\n",
       "\n",
       "    .dataframe thead th {\n",
       "        text-align: right;\n",
       "    }\n",
       "</style>\n",
       "<table border=\"1\" class=\"dataframe\">\n",
       "  <thead>\n",
       "    <tr style=\"text-align: right;\">\n",
       "      <th></th>\n",
       "      <th>date</th>\n",
       "      <th>new_construction</th>\n",
       "      <th>gdp</th>\n",
       "      <th>fed_rate</th>\n",
       "      <th>permit</th>\n",
       "      <th>mortgage_rate</th>\n",
       "      <th>personal_income</th>\n",
       "      <th>price</th>\n",
       "    </tr>\n",
       "  </thead>\n",
       "  <tbody>\n",
       "    <tr>\n",
       "      <th>0</th>\n",
       "      <td>2000-01-01</td>\n",
       "      <td>107.3</td>\n",
       "      <td>101.491397</td>\n",
       "      <td>5.448387</td>\n",
       "      <td>1727</td>\n",
       "      <td>8.2100</td>\n",
       "      <td>8382.6</td>\n",
       "      <td>100.552</td>\n",
       "    </tr>\n",
       "    <tr>\n",
       "      <th>1</th>\n",
       "      <td>2000-02-01</td>\n",
       "      <td>121.8</td>\n",
       "      <td>101.552445</td>\n",
       "      <td>5.734828</td>\n",
       "      <td>1692</td>\n",
       "      <td>8.3250</td>\n",
       "      <td>8443.7</td>\n",
       "      <td>101.339</td>\n",
       "    </tr>\n",
       "    <tr>\n",
       "      <th>2</th>\n",
       "      <td>2000-03-01</td>\n",
       "      <td>153.7</td>\n",
       "      <td>101.626906</td>\n",
       "      <td>5.853548</td>\n",
       "      <td>1651</td>\n",
       "      <td>8.2400</td>\n",
       "      <td>8503.7</td>\n",
       "      <td>102.127</td>\n",
       "    </tr>\n",
       "    <tr>\n",
       "      <th>3</th>\n",
       "      <td>2000-04-01</td>\n",
       "      <td>138.9</td>\n",
       "      <td>101.698161</td>\n",
       "      <td>6.019667</td>\n",
       "      <td>1597</td>\n",
       "      <td>8.1525</td>\n",
       "      <td>8542.9</td>\n",
       "      <td>102.922</td>\n",
       "    </tr>\n",
       "    <tr>\n",
       "      <th>4</th>\n",
       "      <td>2000-05-01</td>\n",
       "      <td>148.9</td>\n",
       "      <td>101.740194</td>\n",
       "      <td>6.268065</td>\n",
       "      <td>1543</td>\n",
       "      <td>8.5150</td>\n",
       "      <td>8580.9</td>\n",
       "      <td>103.677</td>\n",
       "    </tr>\n",
       "  </tbody>\n",
       "</table>\n",
       "</div>"
      ],
      "text/plain": [
       "        date  new_construction         gdp  fed_rate  permit  mortgage_rate  \\\n",
       "0 2000-01-01             107.3  101.491397  5.448387    1727         8.2100   \n",
       "1 2000-02-01             121.8  101.552445  5.734828    1692         8.3250   \n",
       "2 2000-03-01             153.7  101.626906  5.853548    1651         8.2400   \n",
       "3 2000-04-01             138.9  101.698161  6.019667    1597         8.1525   \n",
       "4 2000-05-01             148.9  101.740194  6.268065    1543         8.5150   \n",
       "\n",
       "   personal_income    price  \n",
       "0           8382.6  100.552  \n",
       "1           8443.7  101.339  \n",
       "2           8503.7  102.127  \n",
       "3           8542.9  102.922  \n",
       "4           8580.9  103.677  "
      ]
     },
     "metadata": {},
     "output_type": "display_data"
    },
    {
     "data": {
      "text/html": [
       "<div>\n",
       "<style scoped>\n",
       "    .dataframe tbody tr th:only-of-type {\n",
       "        vertical-align: middle;\n",
       "    }\n",
       "\n",
       "    .dataframe tbody tr th {\n",
       "        vertical-align: top;\n",
       "    }\n",
       "\n",
       "    .dataframe thead th {\n",
       "        text-align: right;\n",
       "    }\n",
       "</style>\n",
       "<table border=\"1\" class=\"dataframe\">\n",
       "  <thead>\n",
       "    <tr style=\"text-align: right;\">\n",
       "      <th></th>\n",
       "      <th>date</th>\n",
       "      <th>new_construction</th>\n",
       "      <th>gdp</th>\n",
       "      <th>fed_rate</th>\n",
       "      <th>permit</th>\n",
       "      <th>mortgage_rate</th>\n",
       "      <th>personal_income</th>\n",
       "      <th>price</th>\n",
       "    </tr>\n",
       "  </thead>\n",
       "  <tbody>\n",
       "    <tr>\n",
       "      <th>236</th>\n",
       "      <td>2019-09-01</td>\n",
       "      <td>118.3</td>\n",
       "      <td>100.843630</td>\n",
       "      <td>2.043000</td>\n",
       "      <td>1461</td>\n",
       "      <td>3.605</td>\n",
       "      <td>18522.1</td>\n",
       "      <td>210.911</td>\n",
       "    </tr>\n",
       "    <tr>\n",
       "      <th>237</th>\n",
       "      <td>2019-10-01</td>\n",
       "      <td>135.8</td>\n",
       "      <td>100.884768</td>\n",
       "      <td>1.829677</td>\n",
       "      <td>1520</td>\n",
       "      <td>3.688</td>\n",
       "      <td>18587.4</td>\n",
       "      <td>211.598</td>\n",
       "    </tr>\n",
       "    <tr>\n",
       "      <th>238</th>\n",
       "      <td>2019-11-01</td>\n",
       "      <td>111.0</td>\n",
       "      <td>100.921514</td>\n",
       "      <td>1.553333</td>\n",
       "      <td>1497</td>\n",
       "      <td>3.695</td>\n",
       "      <td>18683.0</td>\n",
       "      <td>212.446</td>\n",
       "    </tr>\n",
       "    <tr>\n",
       "      <th>239</th>\n",
       "      <td>2019-12-01</td>\n",
       "      <td>110.7</td>\n",
       "      <td>100.951586</td>\n",
       "      <td>1.550968</td>\n",
       "      <td>1439</td>\n",
       "      <td>3.720</td>\n",
       "      <td>18675.1</td>\n",
       "      <td>213.434</td>\n",
       "    </tr>\n",
       "    <tr>\n",
       "      <th>240</th>\n",
       "      <td>2020-01-01</td>\n",
       "      <td>116.4</td>\n",
       "      <td>100.966969</td>\n",
       "      <td>1.550000</td>\n",
       "      <td>1493</td>\n",
       "      <td>3.624</td>\n",
       "      <td>18873.9</td>\n",
       "      <td>214.490</td>\n",
       "    </tr>\n",
       "  </tbody>\n",
       "</table>\n",
       "</div>"
      ],
      "text/plain": [
       "          date  new_construction         gdp  fed_rate  permit  mortgage_rate  \\\n",
       "236 2019-09-01             118.3  100.843630  2.043000    1461          3.605   \n",
       "237 2019-10-01             135.8  100.884768  1.829677    1520          3.688   \n",
       "238 2019-11-01             111.0  100.921514  1.553333    1497          3.695   \n",
       "239 2019-12-01             110.7  100.951586  1.550968    1439          3.720   \n",
       "240 2020-01-01             116.4  100.966969  1.550000    1493          3.624   \n",
       "\n",
       "     personal_income    price  \n",
       "236          18522.1  210.911  \n",
       "237          18587.4  211.598  \n",
       "238          18683.0  212.446  \n",
       "239          18675.1  213.434  \n",
       "240          18873.9  214.490  "
      ]
     },
     "metadata": {},
     "output_type": "display_data"
    }
   ],
   "source": [
    "display(final_df.head(), final_df.tail())"
   ]
  },
  {
   "cell_type": "markdown",
   "metadata": {},
   "source": [
    " Saving the Model"
   ]
  },
  {
   "cell_type": "code",
   "execution_count": 30,
   "metadata": {},
   "outputs": [],
   "source": [
    "final_df.to_csv(\"data/final_df.csv\", index=False)"
   ]
  }
 ],
 "metadata": {
  "kernelspec": {
   "display_name": "Python 3.9.13 ('hoomenv': venv)",
   "language": "python",
   "name": "python3"
  },
  "language_info": {
   "codemirror_mode": {
    "name": "ipython",
    "version": 3
   },
   "file_extension": ".py",
   "mimetype": "text/x-python",
   "name": "python",
   "nbconvert_exporter": "python",
   "pygments_lexer": "ipython3",
   "version": "3.9.13"
  },
  "orig_nbformat": 4,
  "vscode": {
   "interpreter": {
    "hash": "d9a2c2fa96cf4ee71bc65aefc29f7f21c92c04d14e54d5a342c5f6ac5c58e00f"
   }
  }
 },
 "nbformat": 4,
 "nbformat_minor": 2
}
