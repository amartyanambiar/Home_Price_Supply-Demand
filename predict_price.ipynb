{
 "cells": [
  {
   "cell_type": "markdown",
   "metadata": {},
   "source": [
    "Importing Libraries"
   ]
  },
  {
   "cell_type": "code",
   "execution_count": 20,
   "metadata": {},
   "outputs": [],
   "source": [
    "import pandas as pd\n",
    "import numpy as np\n",
    "import matplotlib.pyplot as plt\n",
    "import plotly.express as px\n",
    "from sklearn.model_selection import train_test_split\n",
    "from sklearn.linear_model import LinearRegression\n",
    "from sklearn import preprocessing\n",
    "import datetime as dt\n",
    "from sklearn import metrics\n",
    "import pickle"
   ]
  },
  {
   "cell_type": "markdown",
   "metadata": {},
   "source": [
    "Reading the Dataset from the CSV File"
   ]
  },
  {
   "cell_type": "code",
   "execution_count": 21,
   "metadata": {},
   "outputs": [
    {
     "data": {
      "text/html": [
       "<div>\n",
       "<style scoped>\n",
       "    .dataframe tbody tr th:only-of-type {\n",
       "        vertical-align: middle;\n",
       "    }\n",
       "\n",
       "    .dataframe tbody tr th {\n",
       "        vertical-align: top;\n",
       "    }\n",
       "\n",
       "    .dataframe thead th {\n",
       "        text-align: right;\n",
       "    }\n",
       "</style>\n",
       "<table border=\"1\" class=\"dataframe\">\n",
       "  <thead>\n",
       "    <tr style=\"text-align: right;\">\n",
       "      <th></th>\n",
       "      <th>date</th>\n",
       "      <th>new_construction</th>\n",
       "      <th>gdp</th>\n",
       "      <th>fed_rate</th>\n",
       "      <th>permit</th>\n",
       "      <th>mortgage_rate</th>\n",
       "      <th>personal_income</th>\n",
       "      <th>price</th>\n",
       "    </tr>\n",
       "  </thead>\n",
       "  <tbody>\n",
       "    <tr>\n",
       "      <th>0</th>\n",
       "      <td>2000-01-01</td>\n",
       "      <td>107.3</td>\n",
       "      <td>101.491397</td>\n",
       "      <td>5.448387</td>\n",
       "      <td>1727</td>\n",
       "      <td>8.2100</td>\n",
       "      <td>8382.6</td>\n",
       "      <td>100.552</td>\n",
       "    </tr>\n",
       "    <tr>\n",
       "      <th>1</th>\n",
       "      <td>2000-02-01</td>\n",
       "      <td>121.8</td>\n",
       "      <td>101.552445</td>\n",
       "      <td>5.734828</td>\n",
       "      <td>1692</td>\n",
       "      <td>8.3250</td>\n",
       "      <td>8443.7</td>\n",
       "      <td>101.339</td>\n",
       "    </tr>\n",
       "    <tr>\n",
       "      <th>2</th>\n",
       "      <td>2000-03-01</td>\n",
       "      <td>153.7</td>\n",
       "      <td>101.626906</td>\n",
       "      <td>5.853548</td>\n",
       "      <td>1651</td>\n",
       "      <td>8.2400</td>\n",
       "      <td>8503.7</td>\n",
       "      <td>102.127</td>\n",
       "    </tr>\n",
       "    <tr>\n",
       "      <th>3</th>\n",
       "      <td>2000-04-01</td>\n",
       "      <td>138.9</td>\n",
       "      <td>101.698161</td>\n",
       "      <td>6.019667</td>\n",
       "      <td>1597</td>\n",
       "      <td>8.1525</td>\n",
       "      <td>8542.9</td>\n",
       "      <td>102.922</td>\n",
       "    </tr>\n",
       "    <tr>\n",
       "      <th>4</th>\n",
       "      <td>2000-05-01</td>\n",
       "      <td>148.9</td>\n",
       "      <td>101.740194</td>\n",
       "      <td>6.268065</td>\n",
       "      <td>1543</td>\n",
       "      <td>8.5150</td>\n",
       "      <td>8580.9</td>\n",
       "      <td>103.677</td>\n",
       "    </tr>\n",
       "  </tbody>\n",
       "</table>\n",
       "</div>"
      ],
      "text/plain": [
       "         date  new_construction         gdp  fed_rate  permit  mortgage_rate  \\\n",
       "0  2000-01-01             107.3  101.491397  5.448387    1727         8.2100   \n",
       "1  2000-02-01             121.8  101.552445  5.734828    1692         8.3250   \n",
       "2  2000-03-01             153.7  101.626906  5.853548    1651         8.2400   \n",
       "3  2000-04-01             138.9  101.698161  6.019667    1597         8.1525   \n",
       "4  2000-05-01             148.9  101.740194  6.268065    1543         8.5150   \n",
       "\n",
       "   personal_income    price  \n",
       "0           8382.6  100.552  \n",
       "1           8443.7  101.339  \n",
       "2           8503.7  102.127  \n",
       "3           8542.9  102.922  \n",
       "4           8580.9  103.677  "
      ]
     },
     "execution_count": 21,
     "metadata": {},
     "output_type": "execute_result"
    }
   ],
   "source": [
    "df = pd.read_csv('data/final_df.csv')\n",
    "df.head()"
   ]
  },
  {
   "cell_type": "code",
   "execution_count": 22,
   "metadata": {},
   "outputs": [
    {
     "data": {
      "text/html": [
       "<div>\n",
       "<style scoped>\n",
       "    .dataframe tbody tr th:only-of-type {\n",
       "        vertical-align: middle;\n",
       "    }\n",
       "\n",
       "    .dataframe tbody tr th {\n",
       "        vertical-align: top;\n",
       "    }\n",
       "\n",
       "    .dataframe thead th {\n",
       "        text-align: right;\n",
       "    }\n",
       "</style>\n",
       "<table border=\"1\" class=\"dataframe\">\n",
       "  <thead>\n",
       "    <tr style=\"text-align: right;\">\n",
       "      <th></th>\n",
       "      <th>date</th>\n",
       "      <th>new_construction</th>\n",
       "      <th>gdp</th>\n",
       "      <th>fed_rate</th>\n",
       "      <th>permit</th>\n",
       "      <th>mortgage_rate</th>\n",
       "      <th>personal_income</th>\n",
       "      <th>price</th>\n",
       "    </tr>\n",
       "  </thead>\n",
       "  <tbody>\n",
       "    <tr>\n",
       "      <th>236</th>\n",
       "      <td>2019-09-01</td>\n",
       "      <td>118.3</td>\n",
       "      <td>100.843630</td>\n",
       "      <td>2.043000</td>\n",
       "      <td>1461</td>\n",
       "      <td>3.605</td>\n",
       "      <td>18522.1</td>\n",
       "      <td>210.911</td>\n",
       "    </tr>\n",
       "    <tr>\n",
       "      <th>237</th>\n",
       "      <td>2019-10-01</td>\n",
       "      <td>135.8</td>\n",
       "      <td>100.884768</td>\n",
       "      <td>1.829677</td>\n",
       "      <td>1520</td>\n",
       "      <td>3.688</td>\n",
       "      <td>18587.4</td>\n",
       "      <td>211.598</td>\n",
       "    </tr>\n",
       "    <tr>\n",
       "      <th>238</th>\n",
       "      <td>2019-11-01</td>\n",
       "      <td>111.0</td>\n",
       "      <td>100.921514</td>\n",
       "      <td>1.553333</td>\n",
       "      <td>1497</td>\n",
       "      <td>3.695</td>\n",
       "      <td>18683.0</td>\n",
       "      <td>212.446</td>\n",
       "    </tr>\n",
       "    <tr>\n",
       "      <th>239</th>\n",
       "      <td>2019-12-01</td>\n",
       "      <td>110.7</td>\n",
       "      <td>100.951586</td>\n",
       "      <td>1.550968</td>\n",
       "      <td>1439</td>\n",
       "      <td>3.720</td>\n",
       "      <td>18675.1</td>\n",
       "      <td>213.434</td>\n",
       "    </tr>\n",
       "    <tr>\n",
       "      <th>240</th>\n",
       "      <td>2020-01-01</td>\n",
       "      <td>116.4</td>\n",
       "      <td>100.966969</td>\n",
       "      <td>1.550000</td>\n",
       "      <td>1493</td>\n",
       "      <td>3.624</td>\n",
       "      <td>18873.9</td>\n",
       "      <td>214.490</td>\n",
       "    </tr>\n",
       "  </tbody>\n",
       "</table>\n",
       "</div>"
      ],
      "text/plain": [
       "           date  new_construction         gdp  fed_rate  permit  \\\n",
       "236  2019-09-01             118.3  100.843630  2.043000    1461   \n",
       "237  2019-10-01             135.8  100.884768  1.829677    1520   \n",
       "238  2019-11-01             111.0  100.921514  1.553333    1497   \n",
       "239  2019-12-01             110.7  100.951586  1.550968    1439   \n",
       "240  2020-01-01             116.4  100.966969  1.550000    1493   \n",
       "\n",
       "     mortgage_rate  personal_income    price  \n",
       "236          3.605          18522.1  210.911  \n",
       "237          3.688          18587.4  211.598  \n",
       "238          3.695          18683.0  212.446  \n",
       "239          3.720          18675.1  213.434  \n",
       "240          3.624          18873.9  214.490  "
      ]
     },
     "execution_count": 22,
     "metadata": {},
     "output_type": "execute_result"
    }
   ],
   "source": [
    "df.tail()"
   ]
  },
  {
   "cell_type": "code",
   "execution_count": 23,
   "metadata": {},
   "outputs": [
    {
     "data": {
      "text/plain": [
       "Index(['date', 'new_construction', 'gdp', 'fed_rate', 'permit',\n",
       "       'mortgage_rate', 'personal_income', 'price'],\n",
       "      dtype='object')"
      ]
     },
     "metadata": {},
     "output_type": "display_data"
    },
    {
     "data": {
      "text/plain": [
       "(241, 8)"
      ]
     },
     "metadata": {},
     "output_type": "display_data"
    },
    {
     "data": {
      "text/plain": [
       "date                 object\n",
       "new_construction    float64\n",
       "gdp                 float64\n",
       "fed_rate            float64\n",
       "permit                int64\n",
       "mortgage_rate       float64\n",
       "personal_income     float64\n",
       "price               float64\n",
       "dtype: object"
      ]
     },
     "metadata": {},
     "output_type": "display_data"
    }
   ],
   "source": [
    "# display columns, shape and types of the columns present in the dataframe\n",
    "display(df.columns, df.shape, df.dtypes)"
   ]
  },
  {
   "cell_type": "markdown",
   "metadata": {},
   "source": [
    "Deeper Understanding of the Dataset"
   ]
  },
  {
   "cell_type": "code",
   "execution_count": 24,
   "metadata": {},
   "outputs": [
    {
     "data": {
      "text/html": [
       "<div>\n",
       "<style scoped>\n",
       "    .dataframe tbody tr th:only-of-type {\n",
       "        vertical-align: middle;\n",
       "    }\n",
       "\n",
       "    .dataframe tbody tr th {\n",
       "        vertical-align: top;\n",
       "    }\n",
       "\n",
       "    .dataframe thead th {\n",
       "        text-align: right;\n",
       "    }\n",
       "</style>\n",
       "<table border=\"1\" class=\"dataframe\">\n",
       "  <thead>\n",
       "    <tr style=\"text-align: right;\">\n",
       "      <th></th>\n",
       "      <th>new_construction</th>\n",
       "      <th>gdp</th>\n",
       "      <th>fed_rate</th>\n",
       "      <th>permit</th>\n",
       "      <th>mortgage_rate</th>\n",
       "      <th>personal_income</th>\n",
       "      <th>price</th>\n",
       "    </tr>\n",
       "  </thead>\n",
       "  <tbody>\n",
       "    <tr>\n",
       "      <th>count</th>\n",
       "      <td>241.000000</td>\n",
       "      <td>241.000000</td>\n",
       "      <td>241.000000</td>\n",
       "      <td>241.000000</td>\n",
       "      <td>241.000000</td>\n",
       "      <td>241.000000</td>\n",
       "      <td>241.000000</td>\n",
       "    </tr>\n",
       "    <tr>\n",
       "      <th>mean</th>\n",
       "      <td>109.630290</td>\n",
       "      <td>100.080589</td>\n",
       "      <td>1.783023</td>\n",
       "      <td>1314.829876</td>\n",
       "      <td>5.185427</td>\n",
       "      <td>12965.737759</td>\n",
       "      <td>158.869245</td>\n",
       "    </tr>\n",
       "    <tr>\n",
       "      <th>std</th>\n",
       "      <td>41.988829</td>\n",
       "      <td>0.912263</td>\n",
       "      <td>1.913202</td>\n",
       "      <td>477.707852</td>\n",
       "      <td>1.281163</td>\n",
       "      <td>2951.488421</td>\n",
       "      <td>28.312375</td>\n",
       "    </tr>\n",
       "    <tr>\n",
       "      <th>min</th>\n",
       "      <td>36.300000</td>\n",
       "      <td>97.762514</td>\n",
       "      <td>0.066429</td>\n",
       "      <td>513.000000</td>\n",
       "      <td>3.345000</td>\n",
       "      <td>8382.600000</td>\n",
       "      <td>100.552000</td>\n",
       "    </tr>\n",
       "    <tr>\n",
       "      <th>25%</th>\n",
       "      <td>77.500000</td>\n",
       "      <td>99.645967</td>\n",
       "      <td>0.155806</td>\n",
       "      <td>980.000000</td>\n",
       "      <td>4.036000</td>\n",
       "      <td>10335.800000</td>\n",
       "      <td>140.011000</td>\n",
       "    </tr>\n",
       "    <tr>\n",
       "      <th>50%</th>\n",
       "      <td>107.300000</td>\n",
       "      <td>99.999349</td>\n",
       "      <td>1.157000</td>\n",
       "      <td>1301.000000</td>\n",
       "      <td>4.952000</td>\n",
       "      <td>12489.400000</td>\n",
       "      <td>159.330000</td>\n",
       "    </tr>\n",
       "    <tr>\n",
       "      <th>75%</th>\n",
       "      <td>138.900000</td>\n",
       "      <td>100.579304</td>\n",
       "      <td>2.423667</td>\n",
       "      <td>1665.000000</td>\n",
       "      <td>6.180000</td>\n",
       "      <td>15444.500000</td>\n",
       "      <td>180.848000</td>\n",
       "    </tr>\n",
       "    <tr>\n",
       "      <th>max</th>\n",
       "      <td>211.900000</td>\n",
       "      <td>101.829671</td>\n",
       "      <td>6.544516</td>\n",
       "      <td>2263.000000</td>\n",
       "      <td>8.515000</td>\n",
       "      <td>18873.900000</td>\n",
       "      <td>214.490000</td>\n",
       "    </tr>\n",
       "  </tbody>\n",
       "</table>\n",
       "</div>"
      ],
      "text/plain": [
       "       new_construction         gdp    fed_rate       permit  mortgage_rate  \\\n",
       "count        241.000000  241.000000  241.000000   241.000000     241.000000   \n",
       "mean         109.630290  100.080589    1.783023  1314.829876       5.185427   \n",
       "std           41.988829    0.912263    1.913202   477.707852       1.281163   \n",
       "min           36.300000   97.762514    0.066429   513.000000       3.345000   \n",
       "25%           77.500000   99.645967    0.155806   980.000000       4.036000   \n",
       "50%          107.300000   99.999349    1.157000  1301.000000       4.952000   \n",
       "75%          138.900000  100.579304    2.423667  1665.000000       6.180000   \n",
       "max          211.900000  101.829671    6.544516  2263.000000       8.515000   \n",
       "\n",
       "       personal_income       price  \n",
       "count       241.000000  241.000000  \n",
       "mean      12965.737759  158.869245  \n",
       "std        2951.488421   28.312375  \n",
       "min        8382.600000  100.552000  \n",
       "25%       10335.800000  140.011000  \n",
       "50%       12489.400000  159.330000  \n",
       "75%       15444.500000  180.848000  \n",
       "max       18873.900000  214.490000  "
      ]
     },
     "execution_count": 24,
     "metadata": {},
     "output_type": "execute_result"
    }
   ],
   "source": [
    "df.describe()"
   ]
  },
  {
   "cell_type": "code",
   "execution_count": 25,
   "metadata": {},
   "outputs": [
    {
     "data": {
      "text/plain": [
       "date                0\n",
       "new_construction    0\n",
       "gdp                 0\n",
       "fed_rate            0\n",
       "permit              0\n",
       "mortgage_rate       0\n",
       "personal_income     0\n",
       "price               0\n",
       "dtype: int64"
      ]
     },
     "execution_count": 25,
     "metadata": {},
     "output_type": "execute_result"
    }
   ],
   "source": [
    "df.isna().sum()"
   ]
  },
  {
   "cell_type": "code",
   "execution_count": 26,
   "metadata": {},
   "outputs": [],
   "source": [
    "# changing the datatype of the date column and converting it intoProleptic format\n",
    "df['date'] = pd.to_datetime(df['date'])\n",
    "df['date']=df['date'].map(dt.datetime.toordinal)"
   ]
  },
  {
   "cell_type": "code",
   "execution_count": 27,
   "metadata": {},
   "outputs": [
    {
     "data": {
      "text/html": [
       "<div>\n",
       "<style scoped>\n",
       "    .dataframe tbody tr th:only-of-type {\n",
       "        vertical-align: middle;\n",
       "    }\n",
       "\n",
       "    .dataframe tbody tr th {\n",
       "        vertical-align: top;\n",
       "    }\n",
       "\n",
       "    .dataframe thead th {\n",
       "        text-align: right;\n",
       "    }\n",
       "</style>\n",
       "<table border=\"1\" class=\"dataframe\">\n",
       "  <thead>\n",
       "    <tr style=\"text-align: right;\">\n",
       "      <th></th>\n",
       "      <th>date</th>\n",
       "      <th>new_construction</th>\n",
       "      <th>gdp</th>\n",
       "      <th>fed_rate</th>\n",
       "      <th>permit</th>\n",
       "      <th>mortgage_rate</th>\n",
       "      <th>personal_income</th>\n",
       "      <th>price</th>\n",
       "    </tr>\n",
       "  </thead>\n",
       "  <tbody>\n",
       "    <tr>\n",
       "      <th>0</th>\n",
       "      <td>730120</td>\n",
       "      <td>107.3</td>\n",
       "      <td>101.491397</td>\n",
       "      <td>5.448387</td>\n",
       "      <td>1727</td>\n",
       "      <td>8.2100</td>\n",
       "      <td>8382.6</td>\n",
       "      <td>100.552</td>\n",
       "    </tr>\n",
       "    <tr>\n",
       "      <th>1</th>\n",
       "      <td>730151</td>\n",
       "      <td>121.8</td>\n",
       "      <td>101.552445</td>\n",
       "      <td>5.734828</td>\n",
       "      <td>1692</td>\n",
       "      <td>8.3250</td>\n",
       "      <td>8443.7</td>\n",
       "      <td>101.339</td>\n",
       "    </tr>\n",
       "    <tr>\n",
       "      <th>2</th>\n",
       "      <td>730180</td>\n",
       "      <td>153.7</td>\n",
       "      <td>101.626906</td>\n",
       "      <td>5.853548</td>\n",
       "      <td>1651</td>\n",
       "      <td>8.2400</td>\n",
       "      <td>8503.7</td>\n",
       "      <td>102.127</td>\n",
       "    </tr>\n",
       "    <tr>\n",
       "      <th>3</th>\n",
       "      <td>730211</td>\n",
       "      <td>138.9</td>\n",
       "      <td>101.698161</td>\n",
       "      <td>6.019667</td>\n",
       "      <td>1597</td>\n",
       "      <td>8.1525</td>\n",
       "      <td>8542.9</td>\n",
       "      <td>102.922</td>\n",
       "    </tr>\n",
       "    <tr>\n",
       "      <th>4</th>\n",
       "      <td>730241</td>\n",
       "      <td>148.9</td>\n",
       "      <td>101.740194</td>\n",
       "      <td>6.268065</td>\n",
       "      <td>1543</td>\n",
       "      <td>8.5150</td>\n",
       "      <td>8580.9</td>\n",
       "      <td>103.677</td>\n",
       "    </tr>\n",
       "    <tr>\n",
       "      <th>...</th>\n",
       "      <td>...</td>\n",
       "      <td>...</td>\n",
       "      <td>...</td>\n",
       "      <td>...</td>\n",
       "      <td>...</td>\n",
       "      <td>...</td>\n",
       "      <td>...</td>\n",
       "      <td>...</td>\n",
       "    </tr>\n",
       "    <tr>\n",
       "      <th>236</th>\n",
       "      <td>737303</td>\n",
       "      <td>118.3</td>\n",
       "      <td>100.843630</td>\n",
       "      <td>2.043000</td>\n",
       "      <td>1461</td>\n",
       "      <td>3.6050</td>\n",
       "      <td>18522.1</td>\n",
       "      <td>210.911</td>\n",
       "    </tr>\n",
       "    <tr>\n",
       "      <th>237</th>\n",
       "      <td>737333</td>\n",
       "      <td>135.8</td>\n",
       "      <td>100.884768</td>\n",
       "      <td>1.829677</td>\n",
       "      <td>1520</td>\n",
       "      <td>3.6880</td>\n",
       "      <td>18587.4</td>\n",
       "      <td>211.598</td>\n",
       "    </tr>\n",
       "    <tr>\n",
       "      <th>238</th>\n",
       "      <td>737364</td>\n",
       "      <td>111.0</td>\n",
       "      <td>100.921514</td>\n",
       "      <td>1.553333</td>\n",
       "      <td>1497</td>\n",
       "      <td>3.6950</td>\n",
       "      <td>18683.0</td>\n",
       "      <td>212.446</td>\n",
       "    </tr>\n",
       "    <tr>\n",
       "      <th>239</th>\n",
       "      <td>737394</td>\n",
       "      <td>110.7</td>\n",
       "      <td>100.951586</td>\n",
       "      <td>1.550968</td>\n",
       "      <td>1439</td>\n",
       "      <td>3.7200</td>\n",
       "      <td>18675.1</td>\n",
       "      <td>213.434</td>\n",
       "    </tr>\n",
       "    <tr>\n",
       "      <th>240</th>\n",
       "      <td>737425</td>\n",
       "      <td>116.4</td>\n",
       "      <td>100.966969</td>\n",
       "      <td>1.550000</td>\n",
       "      <td>1493</td>\n",
       "      <td>3.6240</td>\n",
       "      <td>18873.9</td>\n",
       "      <td>214.490</td>\n",
       "    </tr>\n",
       "  </tbody>\n",
       "</table>\n",
       "<p>241 rows × 8 columns</p>\n",
       "</div>"
      ],
      "text/plain": [
       "       date  new_construction         gdp  fed_rate  permit  mortgage_rate  \\\n",
       "0    730120             107.3  101.491397  5.448387    1727         8.2100   \n",
       "1    730151             121.8  101.552445  5.734828    1692         8.3250   \n",
       "2    730180             153.7  101.626906  5.853548    1651         8.2400   \n",
       "3    730211             138.9  101.698161  6.019667    1597         8.1525   \n",
       "4    730241             148.9  101.740194  6.268065    1543         8.5150   \n",
       "..      ...               ...         ...       ...     ...            ...   \n",
       "236  737303             118.3  100.843630  2.043000    1461         3.6050   \n",
       "237  737333             135.8  100.884768  1.829677    1520         3.6880   \n",
       "238  737364             111.0  100.921514  1.553333    1497         3.6950   \n",
       "239  737394             110.7  100.951586  1.550968    1439         3.7200   \n",
       "240  737425             116.4  100.966969  1.550000    1493         3.6240   \n",
       "\n",
       "     personal_income    price  \n",
       "0             8382.6  100.552  \n",
       "1             8443.7  101.339  \n",
       "2             8503.7  102.127  \n",
       "3             8542.9  102.922  \n",
       "4             8580.9  103.677  \n",
       "..               ...      ...  \n",
       "236          18522.1  210.911  \n",
       "237          18587.4  211.598  \n",
       "238          18683.0  212.446  \n",
       "239          18675.1  213.434  \n",
       "240          18873.9  214.490  \n",
       "\n",
       "[241 rows x 8 columns]"
      ]
     },
     "execution_count": 27,
     "metadata": {},
     "output_type": "execute_result"
    }
   ],
   "source": [
    "df"
   ]
  },
  {
   "cell_type": "markdown",
   "metadata": {},
   "source": [
    "Creating the Linear Regression Model"
   ]
  },
  {
   "cell_type": "code",
   "execution_count": 28,
   "metadata": {},
   "outputs": [],
   "source": [
    "X = df.drop(['price'], axis=1)   # dropping the price column from the dataframe\n",
    "y = df['price']                  # assigning the price column to the y variable(dependant variable)\n",
    "\n",
    "# splitting the data into training and testing data\n",
    "X_train, X_test, y_train, y_test = train_test_split(X, y, test_size=0.2, random_state=30)\n",
    "\n",
    "# Calling the LinearRegression class from the sklearn library\n",
    "reg = LinearRegression()\n",
    "reg.fit(X_train, y_train)     # fitting the data to the model\n",
    "y_pred = reg.predict(X_test)  # predicting the data"
   ]
  },
  {
   "cell_type": "code",
   "execution_count": 29,
   "metadata": {},
   "outputs": [
    {
     "name": "stdout",
     "output_type": "stream",
     "text": [
      "For Linear Regression Model \n",
      "Training Score : 0.8186294707680757\n",
      "Testing Score : 0.815686971543842\n"
     ]
    }
   ],
   "source": [
    "print(\"For Linear Regression Model \")\n",
    "print(\"Training Score : \" + str(reg.score(X_train, y_train)))\n",
    "print(\"Testing Score : \" + str(reg.score(X_test, y_test)))"
   ]
  },
  {
   "cell_type": "code",
   "execution_count": 30,
   "metadata": {},
   "outputs": [
    {
     "name": "stdout",
     "output_type": "stream",
     "text": [
      "Co-efficients : [ 0.04577183 -0.05736736  1.86394988  4.13114928  0.032166    8.7293178\n",
      " -0.0188647 ]\n",
      "Intercept : -33458.01927387141\n"
     ]
    }
   ],
   "source": [
    "print(\"Co-efficients : \" + str(reg.coef_))\n",
    "print(\"Intercept : \" + str(reg.intercept_))"
   ]
  },
  {
   "cell_type": "code",
   "execution_count": 31,
   "metadata": {},
   "outputs": [
    {
     "data": {
      "text/plain": [
       "8.265671327951962"
      ]
     },
     "execution_count": 31,
     "metadata": {},
     "output_type": "execute_result"
    }
   ],
   "source": [
    "metrics.mean_absolute_error(y_test, y_pred)  # calculating the mean absolute error"
   ]
  },
  {
   "cell_type": "code",
   "execution_count": 32,
   "metadata": {},
   "outputs": [],
   "source": [
    "# save the model to disk\n",
    "filename = 'reg.pkl'\n",
    "pickle.dump(reg, open(filename, 'wb'))"
   ]
  },
  {
   "cell_type": "markdown",
   "metadata": {},
   "source": [
    "Creating the Random Forest Model"
   ]
  },
  {
   "cell_type": "code",
   "execution_count": 33,
   "metadata": {},
   "outputs": [
    {
     "data": {
      "text/html": [
       "<style>#sk-container-id-2 {color: black;background-color: white;}#sk-container-id-2 pre{padding: 0;}#sk-container-id-2 div.sk-toggleable {background-color: white;}#sk-container-id-2 label.sk-toggleable__label {cursor: pointer;display: block;width: 100%;margin-bottom: 0;padding: 0.3em;box-sizing: border-box;text-align: center;}#sk-container-id-2 label.sk-toggleable__label-arrow:before {content: \"▸\";float: left;margin-right: 0.25em;color: #696969;}#sk-container-id-2 label.sk-toggleable__label-arrow:hover:before {color: black;}#sk-container-id-2 div.sk-estimator:hover label.sk-toggleable__label-arrow:before {color: black;}#sk-container-id-2 div.sk-toggleable__content {max-height: 0;max-width: 0;overflow: hidden;text-align: left;background-color: #f0f8ff;}#sk-container-id-2 div.sk-toggleable__content pre {margin: 0.2em;color: black;border-radius: 0.25em;background-color: #f0f8ff;}#sk-container-id-2 input.sk-toggleable__control:checked~div.sk-toggleable__content {max-height: 200px;max-width: 100%;overflow: auto;}#sk-container-id-2 input.sk-toggleable__control:checked~label.sk-toggleable__label-arrow:before {content: \"▾\";}#sk-container-id-2 div.sk-estimator input.sk-toggleable__control:checked~label.sk-toggleable__label {background-color: #d4ebff;}#sk-container-id-2 div.sk-label input.sk-toggleable__control:checked~label.sk-toggleable__label {background-color: #d4ebff;}#sk-container-id-2 input.sk-hidden--visually {border: 0;clip: rect(1px 1px 1px 1px);clip: rect(1px, 1px, 1px, 1px);height: 1px;margin: -1px;overflow: hidden;padding: 0;position: absolute;width: 1px;}#sk-container-id-2 div.sk-estimator {font-family: monospace;background-color: #f0f8ff;border: 1px dotted black;border-radius: 0.25em;box-sizing: border-box;margin-bottom: 0.5em;}#sk-container-id-2 div.sk-estimator:hover {background-color: #d4ebff;}#sk-container-id-2 div.sk-parallel-item::after {content: \"\";width: 100%;border-bottom: 1px solid gray;flex-grow: 1;}#sk-container-id-2 div.sk-label:hover label.sk-toggleable__label {background-color: #d4ebff;}#sk-container-id-2 div.sk-serial::before {content: \"\";position: absolute;border-left: 1px solid gray;box-sizing: border-box;top: 0;bottom: 0;left: 50%;z-index: 0;}#sk-container-id-2 div.sk-serial {display: flex;flex-direction: column;align-items: center;background-color: white;padding-right: 0.2em;padding-left: 0.2em;position: relative;}#sk-container-id-2 div.sk-item {position: relative;z-index: 1;}#sk-container-id-2 div.sk-parallel {display: flex;align-items: stretch;justify-content: center;background-color: white;position: relative;}#sk-container-id-2 div.sk-item::before, #sk-container-id-2 div.sk-parallel-item::before {content: \"\";position: absolute;border-left: 1px solid gray;box-sizing: border-box;top: 0;bottom: 0;left: 50%;z-index: -1;}#sk-container-id-2 div.sk-parallel-item {display: flex;flex-direction: column;z-index: 1;position: relative;background-color: white;}#sk-container-id-2 div.sk-parallel-item:first-child::after {align-self: flex-end;width: 50%;}#sk-container-id-2 div.sk-parallel-item:last-child::after {align-self: flex-start;width: 50%;}#sk-container-id-2 div.sk-parallel-item:only-child::after {width: 0;}#sk-container-id-2 div.sk-dashed-wrapped {border: 1px dashed gray;margin: 0 0.4em 0.5em 0.4em;box-sizing: border-box;padding-bottom: 0.4em;background-color: white;}#sk-container-id-2 div.sk-label label {font-family: monospace;font-weight: bold;display: inline-block;line-height: 1.2em;}#sk-container-id-2 div.sk-label-container {text-align: center;}#sk-container-id-2 div.sk-container {/* jupyter's `normalize.less` sets `[hidden] { display: none; }` but bootstrap.min.css set `[hidden] { display: none !important; }` so we also need the `!important` here to be able to override the default hidden behavior on the sphinx rendered scikit-learn.org. See: https://github.com/scikit-learn/scikit-learn/issues/21755 */display: inline-block !important;position: relative;}#sk-container-id-2 div.sk-text-repr-fallback {display: none;}</style><div id=\"sk-container-id-2\" class=\"sk-top-container\"><div class=\"sk-text-repr-fallback\"><pre>RandomForestRegressor(n_estimators=1, random_state=30)</pre><b>In a Jupyter environment, please rerun this cell to show the HTML representation or trust the notebook. <br />On GitHub, the HTML representation is unable to render, please try loading this page with nbviewer.org.</b></div><div class=\"sk-container\" hidden><div class=\"sk-item\"><div class=\"sk-estimator sk-toggleable\"><input class=\"sk-toggleable__control sk-hidden--visually\" id=\"sk-estimator-id-2\" type=\"checkbox\" checked><label for=\"sk-estimator-id-2\" class=\"sk-toggleable__label sk-toggleable__label-arrow\">RandomForestRegressor</label><div class=\"sk-toggleable__content\"><pre>RandomForestRegressor(n_estimators=1, random_state=30)</pre></div></div></div></div></div>"
      ],
      "text/plain": [
       "RandomForestRegressor(n_estimators=1, random_state=30)"
      ]
     },
     "execution_count": 33,
     "metadata": {},
     "output_type": "execute_result"
    }
   ],
   "source": [
    "from sklearn.ensemble import RandomForestRegressor\n",
    "rf = RandomForestRegressor(n_estimators=1, random_state=30)\n",
    "rf.fit(X_train, y_train)\n"
   ]
  },
  {
   "cell_type": "code",
   "execution_count": 34,
   "metadata": {},
   "outputs": [
    {
     "name": "stdout",
     "output_type": "stream",
     "text": [
      "For Random Forest Regressor Model \n",
      "Training Score : 0.9981404105571242\n",
      "Testing Score : 0.9893228179140017\n"
     ]
    }
   ],
   "source": [
    "print(\"For Random Forest Regressor Model \")\n",
    "print(\"Training Score : \" + str(rf.score(X_train, y_train)))\n",
    "print(\"Testing Score : \" + str(rf.score(X_test, y_test)))"
   ]
  },
  {
   "cell_type": "code",
   "execution_count": 35,
   "metadata": {},
   "outputs": [
    {
     "data": {
      "text/plain": [
       "1.9782653061224493"
      ]
     },
     "execution_count": 35,
     "metadata": {},
     "output_type": "execute_result"
    }
   ],
   "source": [
    "rf_pred = rf.predict(X_test)\n",
    "metrics.mean_absolute_error(y_test, rf_pred)"
   ]
  }
 ],
 "metadata": {
  "kernelspec": {
   "display_name": "Python 3.9.13 ('hoomenv': venv)",
   "language": "python",
   "name": "python3"
  },
  "language_info": {
   "codemirror_mode": {
    "name": "ipython",
    "version": 3
   },
   "file_extension": ".py",
   "mimetype": "text/x-python",
   "name": "python",
   "nbconvert_exporter": "python",
   "pygments_lexer": "ipython3",
   "version": "3.9.13"
  },
  "orig_nbformat": 4,
  "vscode": {
   "interpreter": {
    "hash": "d9a2c2fa96cf4ee71bc65aefc29f7f21c92c04d14e54d5a342c5f6ac5c58e00f"
   }
  }
 },
 "nbformat": 4,
 "nbformat_minor": 2
}
